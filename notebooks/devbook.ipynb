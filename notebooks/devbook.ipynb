{
 "cells": [
  {
   "cell_type": "code",
   "execution_count": null,
   "metadata": {},
   "outputs": [],
   "source": [
    "%load_ext autoreload\n",
    "%autoreload 2\n",
    "%matplotlib inline\n",
    "import os\n",
    "import sys\n",
    "\n",
    "import matplotlib.pyplot as plt\n",
    "import numpy as np\n",
    "import pandas as pd\n",
    "import seaborn as sns\n",
    "from sklearn.externals import joblib\n",
    "from sklearn import metrics\n",
    "\n",
    "sys.path.append('../')\n",
    "from visualization import roc_curve_plot, prediction_distribution_plot\n",
    "from utils import read_csv_time_chunks\n",
    "from feature_extraction import TimeDelta"
   ]
  },
  {
   "cell_type": "code",
   "execution_count": null,
   "metadata": {},
   "outputs": [],
   "source": [
    "data = read_csv_time_chunks('/mnt/ml-team/minerva/talking_data/files',days=[8],hours=[3])\n",
    "data = data.sample(10000)"
   ]
  },
  {
   "cell_type": "code",
   "execution_count": null,
   "metadata": {},
   "outputs": [],
   "source": [
    "time_deltas = TimeDeltas(groupby_specs=[['os','app'],['ip','channel']],\n",
    "                        timestamp_column = 'click_time')\n",
    "\n",
    "X_ = time_deltas.fit_transform(categorical_features=data[['os','app','ip','channel']],\n",
    "                               timestamp_features=data[['click_time']])"
   ]
  },
  {
   "cell_type": "code",
   "execution_count": null,
   "metadata": {},
   "outputs": [],
   "source": [
    "X_['categorical_features']"
   ]
  },
  {
   "cell_type": "code",
   "execution_count": null,
   "metadata": {},
   "outputs": [],
   "source": [
    "res.head()"
   ]
  },
  {
   "cell_type": "code",
   "execution_count": null,
   "metadata": {},
   "outputs": [],
   "source": [
    "data.head()"
   ]
  },
  {
   "cell_type": "code",
   "execution_count": null,
   "metadata": {},
   "outputs": [],
   "source": [
    "EXPERIMENT_DIR = '/mnt/ml-team/minerva/talking_data/kuba/experiments/'\n",
    "EXPERIMENT_NAME = 'baseline'\n",
    "\n",
    "prediction_filepath = os.path.join(EXPERIMENT_DIR, EXPERIMENT_NAME, 'evaluation_predictions.csv')\n",
    "evaluation_predictions =  pd.read_csv(prediction_filepath)"
   ]
  },
  {
   "cell_type": "code",
   "execution_count": null,
   "metadata": {},
   "outputs": [],
   "source": [
    "evaluation_predictions.head()"
   ]
  },
  {
   "cell_type": "code",
   "execution_count": null,
   "metadata": {},
   "outputs": [],
   "source": [
    "y_true = evaluation_predictions['is_attributed'].values\n",
    "y_pred = evaluation_predictions['y_pred'].values"
   ]
  },
  {
   "cell_type": "code",
   "execution_count": null,
   "metadata": {},
   "outputs": [],
   "source": [
    "fig = roc_curve_plot(y_true, y_pred)"
   ]
  },
  {
   "cell_type": "code",
   "execution_count": null,
   "metadata": {
    "scrolled": false
   },
   "outputs": [],
   "source": [
    "fig = prediction_distribution_plot(y_true, y_pred, sample=int(10e6), bins=10)"
   ]
  },
  {
   "cell_type": "code",
   "execution_count": null,
   "metadata": {},
   "outputs": [],
   "source": []
  }
 ],
 "metadata": {
  "kernelspec": {
   "display_name": "cpu py3",
   "language": "python",
   "name": "cpu_py3"
  },
  "language_info": {
   "codemirror_mode": {
    "name": "ipython",
    "version": 3
   },
   "file_extension": ".py",
   "mimetype": "text/x-python",
   "name": "python",
   "nbconvert_exporter": "python",
   "pygments_lexer": "ipython3",
   "version": "3.5.2"
  }
 },
 "nbformat": 4,
 "nbformat_minor": 2
}
